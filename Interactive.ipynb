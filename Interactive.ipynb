{
 "cells": [
  {
   "cell_type": "code",
   "execution_count": 1,
   "metadata": {},
   "outputs": [
    {
     "name": "stderr",
     "output_type": "stream",
     "text": [
      "2023-11-01 02:54:18.779970: W tensorflow/compiler/tf2tensorrt/utils/py_utils.cc:38] TF-TRT Warning: Could not find TensorRT\n"
     ]
    }
   ],
   "source": [
    "import jax \n",
    "from utils.train import * \n",
    "from utils.general import *\n",
    "from utils.eval import *\n",
    "import numpy as np\n",
    "import matplotlib.pyplot as plt\n",
    "from datetime import datetime"
   ]
  },
  {
   "cell_type": "code",
   "execution_count": 15,
   "metadata": {},
   "outputs": [],
   "source": [
    "config = {\n",
    "    \"debug\":True,\n",
    "    \"N\": 5,\n",
    "    \"feature_dim\": 3, # this the number of classes under different features set, e.g. dim = 3 for 0, 1, 2\n",
    "    \"emb_dim\":6,\n",
    "    \"qkv_features\":6,\n",
    "    \"out_features\":6,\n",
    "    \"num_episodes\": 4000000,\n",
    "    \"mlp_hidden\": 128,\n",
    "    \"batch_size\": 500,\n",
    "    \"learning_rate\": 0.0001,\n",
    "    \"num_agents\": 4,\n",
    "    \"PRNGkey\": 0,\n",
    "    \"eval_PRNGkey\":12345,\n",
    "    \"num_heads\": 1,\n",
    "    \"eval_runs\":100,\n",
    "    \"eps_min\":0.01,\n",
    "    \"eps_max\":0.95,\n",
    "    \"K\":50000,\n",
    "    \"logging\":True\n",
    "    }\n",
    "\n",
    "init_sp = jnp.zeros((config[\"batch_size\"], 2 * config[\"feature_dim\"]), jnp.float32)\n",
    "init_h1 = jnp.zeros((config[\"batch_size\"], config[\"N\"], 2 * config[\"feature_dim\"]), jnp.float32)\n",
    "init_h2 = jnp.zeros((config[\"batch_size\"], config[\"N\"], 2 * config[\"feature_dim\"]), jnp.float32)\n",
    "init_rng = jax.random.PRNGKey(0)\n",
    "\n",
    "\n",
    "hinter = A2I(hidden=config[\"mlp_hidden\"],\n",
    "                 num_heads=config[\"num_heads\"],\n",
    "                 batch_size=config[\"batch_size\"],\n",
    "                 emb_dim=config[\"emb_dim\"],\n",
    "                 N=config[\"N\"],\n",
    "                 qkv_features=config[\"qkv_features\"],\n",
    "                 out_features=config[\"out_features\"])\n",
    "        \n",
    "        \n",
    "        \n",
    "guesser = A2I(hidden=config[\"mlp_hidden\"],\n",
    "\t\t\t\tnum_heads=config[\"num_heads\"],\n",
    "\t\t\t\tbatch_size=config[\"batch_size\"],\n",
    "\t\t\t\temb_dim=config[\"emb_dim\"],\n",
    "\t\t\t\tN=config[\"N\"],\n",
    "\t\t\t\tqkv_features=config[\"qkv_features\"],\n",
    "\t\t\t\tout_features=config[\"out_features\"])\n"
   ]
  },
  {
   "cell_type": "code",
   "execution_count": 17,
   "metadata": {},
   "outputs": [],
   "source": [
    "h_tree = load_trainstate(\"result/2023-10-31-SA2I/hinter_0\")\n",
    "g_tree = load_trainstate(\"result/2023-10-31-SA2I/guesser_0\")\n",
    "\n",
    "t_state_h = create_train_state(hinter, init_sp, init_h1, init_h2, init_rng, config[\"learning_rate\"], params=h_tree[\"params\"])\n",
    "t_state_g = create_train_state(guesser, init_sp, init_h1, init_h2, init_rng, config[\"learning_rate\"], params=g_tree[\"params\"] )"
   ]
  },
  {
   "cell_type": "code",
   "execution_count": 18,
   "metadata": {},
   "outputs": [
    {
     "name": "stderr",
     "output_type": "stream",
     "text": [
      "  0%|          | 0/100 [00:00<?, ?it/s]"
     ]
    },
    {
     "name": "stderr",
     "output_type": "stream",
     "text": [
      "100%|██████████| 100/100 [00:13<00:00,  7.32it/s]\n"
     ]
    },
    {
     "data": {
      "image/png": "[encoded data removed]",
      "text/plain": [
       "<Figure size 640x480 with 2 Axes>"
      ]
     },
     "metadata": {},
     "output_type": "display_data"
    }
   ],
   "source": [
    "rewards, conditional_prob = play_eval(t_state_h, t_state_g, init_rng, config)\n",
    "labels = [f\"{char}{num}\" for char in \"ABC\" for num in range(1, 4)]\n",
    "fig, ax = plt.subplots()\n",
    "cax = ax.imshow(conditional_prob, cmap='Blues')\n",
    "ax.set_xticks(np.arange(len(labels)))\n",
    "ax.set_yticks(np.arange(len(labels)))\n",
    "ax.set_xticklabels(labels)\n",
    "ax.set_yticklabels(labels)\n",
    "ax.set_xlabel('Guesser')\n",
    "ax.set_ylabel('Hinter')\n",
    "cbar = fig.colorbar(cax, ax=ax)\n",
    "\n",
    "plt.show()"
   ]
  }
 ],
 "metadata": {
  "kernelspec": {
   "display_name": "Python 3",
   "language": "python",
   "name": "python3"
  },
  "language_info": {
   "codemirror_mode": {
    "name": "ipython",
    "version": 3
   },
   "file_extension": ".py",
   "mimetype": "text/x-python",
   "name": "python",
   "nbconvert_exporter": "python",
   "pygments_lexer": "ipython3",
   "version": "3.8.10"
  }
 },
 "nbformat": 4,
 "nbformat_minor": 2
}
